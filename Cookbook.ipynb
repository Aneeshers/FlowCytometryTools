{
 "metadata": {
  "name": "Cookbook"
 },
 "nbformat": 3,
 "nbformat_minor": 0,
 "worksheets": [
  {
   "cells": [
    {
     "cell_type": "heading",
     "level": 1,
     "metadata": {},
     "source": [
      "FlowCytometryTools Cookbook"
     ]
    },
    {
     "cell_type": "raw",
     "metadata": {},
     "source": [
      "Author: Eugene Yurtsev\n",
      "Last Updated Date: 2013-July-15"
     ]
    },
    {
     "cell_type": "raw",
     "metadata": {},
     "source": [
      "To view this file you must have ipython notebook installed. See instructions on: http://ipython.org/notebook.html\n",
      "\n",
      "The flow cytometry tools package can be downloaded in the following location (https://bitbucket.org/gorelab)\n",
      "\n",
      "This library requires the following packages installed:\n",
      "1. numpy \n",
      "2. matplotlib\n",
      "3. pandas\n",
      "\n",
      "4. py-fcm (http://pythonhosted.org/fcm/)\n",
      "\n",
      "In addition,\n",
      "\n",
      "You must add this package and the GoreUtilities package to your PYTHONPATH.\n",
      "\n",
      "Please read the instructions on the bitbucket main webpage for instructins on how to install these packages.\n",
      "\n",
      "\n",
      "Bugs to be aware of:\n",
      "1) Plot function does not automatically resize the axis limits to the min and maximum of the data. If you do not see your data, set the limits explicitely."
     ]
    },
    {
     "cell_type": "heading",
     "level": 4,
     "metadata": {},
     "source": [
      "Instruct ipython to reload libraries automatically if the code in the libraries has been updated"
     ]
    },
    {
     "cell_type": "code",
     "collapsed": false,
     "input": [
      "%load_ext autoreload\n",
      "%autoreload 2"
     ],
     "language": "python",
     "metadata": {},
     "outputs": [],
     "prompt_number": 31
    },
    {
     "cell_type": "heading",
     "level": 2,
     "metadata": {},
     "source": [
      "Basics (Loading data, sample computation and plotting)"
     ]
    },
    {
     "cell_type": "heading",
     "level": 3,
     "metadata": {},
     "source": [
      "Load our dependencies"
     ]
    },
    {
     "cell_type": "code",
     "collapsed": false,
     "input": [
      "from FlowCytometryTools import FCSample, FCPlate"
     ],
     "language": "python",
     "metadata": {},
     "outputs": [],
     "prompt_number": 32
    },
    {
     "cell_type": "heading",
     "level": 3,
     "metadata": {},
     "source": [
      "Creating a flow cytometry plate using all the fcs files located within the datadir path"
     ]
    },
    {
     "cell_type": "code",
     "collapsed": false,
     "input": [
      "datadir = './tests/data/' # Make sure this is the correct file path\n",
      "plate = FCPlate(ID='Test Plate', datadir=datadir, shape=(8,12))"
     ],
     "language": "python",
     "metadata": {},
     "outputs": [],
     "prompt_number": 18
    },
    {
     "cell_type": "heading",
     "level": 3,
     "metadata": {},
     "source": [
      "Examine the contents of the plate"
     ]
    },
    {
     "cell_type": "code",
     "collapsed": false,
     "input": [
      "plate.wells"
     ],
     "language": "python",
     "metadata": {},
     "outputs": [
      {
       "html": [
        "<div style=\"max-height:1000px;max-width:1500px;overflow:auto;\">\n",
        "<table border=\"1\" class=\"dataframe\">\n",
        "  <thead>\n",
        "    <tr style=\"text-align: right;\">\n",
        "      <th></th>\n",
        "      <th>1</th>\n",
        "      <th>2</th>\n",
        "      <th>3</th>\n",
        "      <th>4</th>\n",
        "      <th>5</th>\n",
        "      <th>6</th>\n",
        "      <th>7</th>\n",
        "      <th>8</th>\n",
        "      <th>9</th>\n",
        "      <th>10</th>\n",
        "      <th>11</th>\n",
        "      <th>12</th>\n",
        "    </tr>\n",
        "  </thead>\n",
        "  <tbody>\n",
        "    <tr>\n",
        "      <th>A</th>\n",
        "      <td> 'A1'</td>\n",
        "      <td> 'A2'</td>\n",
        "      <td> 'A3'</td>\n",
        "      <td> 'A4'</td>\n",
        "      <td> 'A5'</td>\n",
        "      <td> 'A6'</td>\n",
        "      <td> 'A7'</td>\n",
        "      <td> 'A8'</td>\n",
        "      <td> 'A9'</td>\n",
        "      <td> 'A10'</td>\n",
        "      <td> 'A11'</td>\n",
        "      <td> 'A12'</td>\n",
        "    </tr>\n",
        "    <tr>\n",
        "      <th>B</th>\n",
        "      <td> 'B1'</td>\n",
        "      <td> 'B2'</td>\n",
        "      <td> 'B3'</td>\n",
        "      <td> 'B4'</td>\n",
        "      <td> 'B5'</td>\n",
        "      <td> 'B6'</td>\n",
        "      <td> 'B7'</td>\n",
        "      <td> 'B8'</td>\n",
        "      <td> 'B9'</td>\n",
        "      <td> 'B10'</td>\n",
        "      <td> 'B11'</td>\n",
        "      <td> 'B12'</td>\n",
        "    </tr>\n",
        "    <tr>\n",
        "      <th>C</th>\n",
        "      <td> 'C1'</td>\n",
        "      <td> 'C2'</td>\n",
        "      <td> 'C3'</td>\n",
        "      <td> 'C4'</td>\n",
        "      <td> 'C5'</td>\n",
        "      <td> 'C6'</td>\n",
        "      <td> 'C7'</td>\n",
        "      <td> 'C8'</td>\n",
        "      <td> 'C9'</td>\n",
        "      <td> 'C10'</td>\n",
        "      <td> 'C11'</td>\n",
        "      <td> 'C12'</td>\n",
        "    </tr>\n",
        "    <tr>\n",
        "      <th>D</th>\n",
        "      <td> 'D1'</td>\n",
        "      <td> 'D2'</td>\n",
        "      <td> 'D3'</td>\n",
        "      <td> 'D4'</td>\n",
        "      <td> 'D5'</td>\n",
        "      <td> 'D6'</td>\n",
        "      <td> 'D7'</td>\n",
        "      <td> 'D8'</td>\n",
        "      <td> 'D9'</td>\n",
        "      <td> 'D10'</td>\n",
        "      <td> 'D11'</td>\n",
        "      <td> 'D12'</td>\n",
        "    </tr>\n",
        "    <tr>\n",
        "      <th>E</th>\n",
        "      <td> 'E1'</td>\n",
        "      <td> 'E2'</td>\n",
        "      <td> 'E3'</td>\n",
        "      <td> 'E4'</td>\n",
        "      <td> 'E5'</td>\n",
        "      <td> 'E6'</td>\n",
        "      <td> 'E7'</td>\n",
        "      <td> 'E8'</td>\n",
        "      <td> 'E9'</td>\n",
        "      <td> 'E10'</td>\n",
        "      <td> 'E11'</td>\n",
        "      <td> 'E12'</td>\n",
        "    </tr>\n",
        "    <tr>\n",
        "      <th>F</th>\n",
        "      <td> 'F1'</td>\n",
        "      <td> 'F2'</td>\n",
        "      <td> 'F3'</td>\n",
        "      <td> 'F4'</td>\n",
        "      <td> 'F5'</td>\n",
        "      <td> 'F6'</td>\n",
        "      <td> 'F7'</td>\n",
        "      <td> 'F8'</td>\n",
        "      <td> 'F9'</td>\n",
        "      <td> 'F10'</td>\n",
        "      <td> 'F11'</td>\n",
        "      <td> 'F12'</td>\n",
        "    </tr>\n",
        "    <tr>\n",
        "      <th>G</th>\n",
        "      <td> 'G1'</td>\n",
        "      <td> 'G2'</td>\n",
        "      <td> 'G3'</td>\n",
        "      <td> 'G4'</td>\n",
        "      <td> 'G5'</td>\n",
        "      <td> 'G6'</td>\n",
        "      <td> 'G7'</td>\n",
        "      <td> 'G8'</td>\n",
        "      <td> 'G9'</td>\n",
        "      <td> 'G10'</td>\n",
        "      <td> 'G11'</td>\n",
        "      <td> 'G12'</td>\n",
        "    </tr>\n",
        "    <tr>\n",
        "      <th>H</th>\n",
        "      <td> 'H1'</td>\n",
        "      <td> 'H2'</td>\n",
        "      <td> 'H3'</td>\n",
        "      <td> 'H4'</td>\n",
        "      <td> 'H5'</td>\n",
        "      <td> 'H6'</td>\n",
        "      <td> 'H7'</td>\n",
        "      <td> 'H8'</td>\n",
        "      <td> 'H9'</td>\n",
        "      <td> 'H10'</td>\n",
        "      <td> 'H11'</td>\n",
        "      <td> 'H12'</td>\n",
        "    </tr>\n",
        "  </tbody>\n",
        "</table>\n",
        "</div>"
       ],
       "output_type": "pyout",
       "prompt_number": 12,
       "text": [
        "     1     2     3     4     5     6     7     8     9      10     11     12\n",
        "A  'A1'  'A2'  'A3'  'A4'  'A5'  'A6'  'A7'  'A8'  'A9'  'A10'  'A11'  'A12'\n",
        "B  'B1'  'B2'  'B3'  'B4'  'B5'  'B6'  'B7'  'B8'  'B9'  'B10'  'B11'  'B12'\n",
        "C  'C1'  'C2'  'C3'  'C4'  'C5'  'C6'  'C7'  'C8'  'C9'  'C10'  'C11'  'C12'\n",
        "D  'D1'  'D2'  'D3'  'D4'  'D5'  'D6'  'D7'  'D8'  'D9'  'D10'  'D11'  'D12'\n",
        "E  'E1'  'E2'  'E3'  'E4'  'E5'  'E6'  'E7'  'E8'  'E9'  'E10'  'E11'  'E12'\n",
        "F  'F1'  'F2'  'F3'  'F4'  'F5'  'F6'  'F7'  'F8'  'F9'  'F10'  'F11'  'F12'\n",
        "G  'G1'  'G2'  'G3'  'G4'  'G5'  'G6'  'G7'  'G8'  'G9'  'G10'  'G11'  'G12'\n",
        "H  'H1'  'H2'  'H3'  'H4'  'H5'  'H6'  'H7'  'H8'  'H9'  'H10'  'H11'  'H12'"
       ]
      }
     ],
     "prompt_number": 12
    },
    {
     "cell_type": "heading",
     "level": 2,
     "metadata": {},
     "source": [
      "Plotting Flow Cytometry Data"
     ]
    },
    {
     "cell_type": "heading",
     "level": 3,
     "metadata": {},
     "source": [
      "Plotting a single well"
     ]
    },
    {
     "cell_type": "raw",
     "metadata": {},
     "source": [
      "First, let's pick well A1 from the plate."
     ]
    },
    {
     "cell_type": "code",
     "collapsed": false,
     "input": [
      "well = plate.wells[1]['A'] # or one can use plate.wells_d['A1']\n",
      "print well"
     ],
     "language": "python",
     "metadata": {},
     "outputs": [
      {
       "output_type": "stream",
       "stream": "stdout",
       "text": [
        "'A1'\n"
       ]
      }
     ],
     "prompt_number": 26
    },
    {
     "cell_type": "heading",
     "level": 4,
     "metadata": {},
     "source": [
      "1d histograms"
     ]
    },
    {
     "cell_type": "raw",
     "metadata": {},
     "source": [
      "Note: The 'logicle' specifies that the 'logicle' transformation will be performed on the 'B1-A' channel."
     ]
    },
    {
     "cell_type": "code",
     "collapsed": false,
     "input": [
      "figure(figsize=(10, 10))\n",
      "well.plot(['B1-A'], transform=('logicle'), bins=50, alpha=0.5, color='g');"
     ],
     "language": "python",
     "metadata": {},
     "outputs": [
      {
       "output_type": "display_data",
       "png": "[encoded data removed]"
      }
     ],
     "prompt_number": 77
    },
    {
     "cell_type": "heading",
     "level": 4,
     "metadata": {},
     "source": [
      "2d histograms"
     ]
    },
    {
     "cell_type": "raw",
     "metadata": {},
     "source": [
      "Here, we'll make 2D plots with channels B1-A and Y2-A on the x and y axis respectively. \n",
      "The plot command can also apply a transformation to the data."
     ]
    },
    {
     "cell_type": "code",
     "collapsed": false,
     "input": [
      "figure(figsize=(10, 10))\n",
      "well.plot(['SSC-A', 'FSC-A'], transform=('logicle', 'logicle'), plot2d_type='hist2d');"
     ],
     "language": "python",
     "metadata": {},
     "outputs": [
      {
       "output_type": "display_data",
       "png": "[encoded data removed]"
      }
     ],
     "prompt_number": 49
    },
    {
     "cell_type": "heading",
     "level": 3,
     "metadata": {},
     "source": [
      "Plotting the entire plate"
     ]
    },
    {
     "cell_type": "code",
     "collapsed": false,
     "input": [
      "figure(figsize=(10, 10))\n",
      "plate.plot(['SSC-A', 'FSC-A'], transform=('logicle', 'logicle'), plot2d_type='hist2d', grid_plot_kwargs=dict(xaxislim=(-20000, 100000), yaxislim=(-20000, 100000)));"
     ],
     "language": "python",
     "metadata": {},
     "outputs": [
      {
       "output_type": "display_data",
       "png": "[encoded data removed]"
      }
     ],
     "prompt_number": 50
    },
    {
     "cell_type": "raw",
     "metadata": {},
     "source": [
      "Note: The plot command supports the plotting of specific wells."
     ]
    },
    {
     "cell_type": "code",
     "collapsed": false,
     "input": [
      "figure(figsize=(10, 10))\n",
      "plate.plot(['B1-A', 'Y2-A'], transform=('logicle', 'logicle'), plot2d_type='hist2d', grid_plot_kwargs=dict(xaxislim=(-20000, 100000), yaxislim=(-20000, 100000), well_ids='A1'));"
     ],
     "language": "python",
     "metadata": {},
     "outputs": []
    },
    {
     "cell_type": "heading",
     "level": 2,
     "metadata": {},
     "source": [
      "Sample Calculations"
     ]
    },
    {
     "cell_type": "heading",
     "level": 3,
     "metadata": {},
     "source": [
      "Working with a single well"
     ]
    },
    {
     "cell_type": "code",
     "collapsed": false,
     "input": [
      "well = plate.wells[1]['A'] # or one can use plate.wells_d['A1']\n",
      "data = well.get_data()\n",
      "print 'Channel names: {0}'.format(data.channels)\n",
      "print 'Events, Channels: {0}, {1}'.format(data.shape[0], data.shape[1])"
     ],
     "language": "python",
     "metadata": {},
     "outputs": [
      {
       "output_type": "stream",
       "stream": "stdout",
       "text": [
        "Channel names: ['HDR-T', 'FSC-A', 'SSC-A', 'V2-A', 'Y2-A', 'B1-A']\n",
        "Events, Channels: 42955, 6\n"
       ]
      }
     ],
     "prompt_number": 62
    },
    {
     "cell_type": "heading",
     "level": 3,
     "metadata": {},
     "source": [
      "Compute the total number of events"
     ]
    },
    {
     "cell_type": "raw",
     "metadata": {},
     "source": [
      "Suggestion: use functions to do calculations. The functions will be useful later on."
     ]
    },
    {
     "cell_type": "code",
     "collapsed": false,
     "input": [
      "def count_events(data):\n",
      "    \"\"\" This functions counts the total number of events. \"\"\"\n",
      "    return data.shape[0]\n",
      "\n",
      "print count_events(well.get_data())"
     ],
     "language": "python",
     "metadata": {},
     "outputs": [
      {
       "output_type": "stream",
       "stream": "stdout",
       "text": [
        "42955\n"
       ]
      }
     ],
     "prompt_number": 69
    },
    {
     "cell_type": "heading",
     "level": 4,
     "metadata": {},
     "source": [
      "Apply this calculation to the entire plate"
     ]
    },
    {
     "cell_type": "code",
     "collapsed": false,
     "input": [
      "plate.apply(count_events, outputs='Total Event #', applyto='data')"
     ],
     "language": "python",
     "metadata": {},
     "outputs": [],
     "prompt_number": 70
    },
    {
     "cell_type": "raw",
     "metadata": {},
     "source": [
      "The result of the apply function is stored inside a dictionary called: extracted"
     ]
    },
    {
     "cell_type": "code",
     "collapsed": false,
     "input": [
      "plate.extracted['Total Event #']"
     ],
     "language": "python",
     "metadata": {},
     "outputs": [
      {
       "html": [
        "<div style=\"max-height:1000px;max-width:1500px;overflow:auto;\">\n",
        "<table border=\"1\" class=\"dataframe\">\n",
        "  <thead>\n",
        "    <tr style=\"text-align: right;\">\n",
        "      <th></th>\n",
        "      <th>1</th>\n",
        "      <th>2</th>\n",
        "      <th>3</th>\n",
        "      <th>4</th>\n",
        "      <th>5</th>\n",
        "      <th>6</th>\n",
        "      <th>7</th>\n",
        "      <th>8</th>\n",
        "      <th>9</th>\n",
        "      <th>10</th>\n",
        "      <th>11</th>\n",
        "      <th>12</th>\n",
        "    </tr>\n",
        "  </thead>\n",
        "  <tbody>\n",
        "    <tr>\n",
        "      <th>A</th>\n",
        "      <td> 42955</td>\n",
        "      <td> 42359</td>\n",
        "      <td>NaN</td>\n",
        "      <td>NaN</td>\n",
        "      <td>NaN</td>\n",
        "      <td>NaN</td>\n",
        "      <td>   NaN</td>\n",
        "      <td>NaN</td>\n",
        "      <td>NaN</td>\n",
        "      <td>NaN</td>\n",
        "      <td>NaN</td>\n",
        "      <td>NaN</td>\n",
        "    </tr>\n",
        "    <tr>\n",
        "      <th>B</th>\n",
        "      <td> 44229</td>\n",
        "      <td> 48701</td>\n",
        "      <td>NaN</td>\n",
        "      <td>NaN</td>\n",
        "      <td>NaN</td>\n",
        "      <td>NaN</td>\n",
        "      <td> 10000</td>\n",
        "      <td>NaN</td>\n",
        "      <td>NaN</td>\n",
        "      <td>NaN</td>\n",
        "      <td>NaN</td>\n",
        "      <td>NaN</td>\n",
        "    </tr>\n",
        "    <tr>\n",
        "      <th>C</th>\n",
        "      <td>   NaN</td>\n",
        "      <td>   NaN</td>\n",
        "      <td>NaN</td>\n",
        "      <td>NaN</td>\n",
        "      <td>NaN</td>\n",
        "      <td>NaN</td>\n",
        "      <td>   NaN</td>\n",
        "      <td>NaN</td>\n",
        "      <td>NaN</td>\n",
        "      <td>NaN</td>\n",
        "      <td>NaN</td>\n",
        "      <td>NaN</td>\n",
        "    </tr>\n",
        "    <tr>\n",
        "      <th>D</th>\n",
        "      <td>   NaN</td>\n",
        "      <td>   NaN</td>\n",
        "      <td>NaN</td>\n",
        "      <td>NaN</td>\n",
        "      <td>NaN</td>\n",
        "      <td>NaN</td>\n",
        "      <td>   NaN</td>\n",
        "      <td>NaN</td>\n",
        "      <td>NaN</td>\n",
        "      <td>NaN</td>\n",
        "      <td>NaN</td>\n",
        "      <td>NaN</td>\n",
        "    </tr>\n",
        "    <tr>\n",
        "      <th>E</th>\n",
        "      <td>   NaN</td>\n",
        "      <td>   NaN</td>\n",
        "      <td>NaN</td>\n",
        "      <td>NaN</td>\n",
        "      <td>NaN</td>\n",
        "      <td>NaN</td>\n",
        "      <td>   NaN</td>\n",
        "      <td>NaN</td>\n",
        "      <td>NaN</td>\n",
        "      <td>NaN</td>\n",
        "      <td>NaN</td>\n",
        "      <td>NaN</td>\n",
        "    </tr>\n",
        "    <tr>\n",
        "      <th>F</th>\n",
        "      <td>   NaN</td>\n",
        "      <td>   NaN</td>\n",
        "      <td>NaN</td>\n",
        "      <td>NaN</td>\n",
        "      <td>NaN</td>\n",
        "      <td>NaN</td>\n",
        "      <td>   NaN</td>\n",
        "      <td>NaN</td>\n",
        "      <td>NaN</td>\n",
        "      <td>NaN</td>\n",
        "      <td>NaN</td>\n",
        "      <td>NaN</td>\n",
        "    </tr>\n",
        "    <tr>\n",
        "      <th>G</th>\n",
        "      <td>   NaN</td>\n",
        "      <td>   NaN</td>\n",
        "      <td>NaN</td>\n",
        "      <td>NaN</td>\n",
        "      <td>NaN</td>\n",
        "      <td>NaN</td>\n",
        "      <td>   NaN</td>\n",
        "      <td>NaN</td>\n",
        "      <td>NaN</td>\n",
        "      <td>NaN</td>\n",
        "      <td>NaN</td>\n",
        "      <td>NaN</td>\n",
        "    </tr>\n",
        "    <tr>\n",
        "      <th>H</th>\n",
        "      <td>   NaN</td>\n",
        "      <td>   NaN</td>\n",
        "      <td>NaN</td>\n",
        "      <td>NaN</td>\n",
        "      <td>NaN</td>\n",
        "      <td>NaN</td>\n",
        "      <td>   NaN</td>\n",
        "      <td>NaN</td>\n",
        "      <td>NaN</td>\n",
        "      <td>NaN</td>\n",
        "      <td>NaN</td>\n",
        "      <td>NaN</td>\n",
        "    </tr>\n",
        "  </tbody>\n",
        "</table>\n",
        "</div>"
       ],
       "output_type": "pyout",
       "prompt_number": 72,
       "text": [
        "      1      2   3   4   5   6      7   8   9   10  11  12\n",
        "A  42955  42359 NaN NaN NaN NaN    NaN NaN NaN NaN NaN NaN\n",
        "B  44229  48701 NaN NaN NaN NaN  10000 NaN NaN NaN NaN NaN\n",
        "C    NaN    NaN NaN NaN NaN NaN    NaN NaN NaN NaN NaN NaN\n",
        "D    NaN    NaN NaN NaN NaN NaN    NaN NaN NaN NaN NaN NaN\n",
        "E    NaN    NaN NaN NaN NaN NaN    NaN NaN NaN NaN NaN NaN\n",
        "F    NaN    NaN NaN NaN NaN NaN    NaN NaN NaN NaN NaN NaN\n",
        "G    NaN    NaN NaN NaN NaN NaN    NaN NaN NaN NaN NaN NaN\n",
        "H    NaN    NaN NaN NaN NaN NaN    NaN NaN NaN NaN NaN NaN"
       ]
      }
     ],
     "prompt_number": 72
    }
   ],
   "metadata": {}
  }
 ]
}