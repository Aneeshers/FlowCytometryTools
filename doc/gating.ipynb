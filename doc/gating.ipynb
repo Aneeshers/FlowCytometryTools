{
 "metadata": {
  "name": "Filtering"
 },
 "nbformat": 3,
 "nbformat_minor": 0,
 "worksheets": [
  {
   "cells": [
    {
     "cell_type": "code",
     "collapsed": false,
     "input": [
      "%load_ext autoreload\n",
      "%autoreload 2"
     ],
     "language": "python",
     "metadata": {},
     "outputs": [],
     "prompt_number": 68
    },
    {
     "cell_type": "code",
     "collapsed": false,
     "input": [
      "from pandas import DataFrame as DF\n",
      "from matplotlib.path import Path\n",
      "from matplotlib import patches\n",
      "from FlowCytometryTools.core import gates"
     ],
     "language": "python",
     "metadata": {},
     "outputs": [],
     "prompt_number": 149
    },
    {
     "cell_type": "heading",
     "level": 2,
     "metadata": {},
     "source": [
      "Generate Data"
     ]
    },
    {
     "cell_type": "code",
     "collapsed": false,
     "input": [
      "coords = randn(50, 2)\n",
      "data = DF(coords)"
     ],
     "language": "python",
     "metadata": {},
     "outputs": [],
     "prompt_number": 150
    },
    {
     "cell_type": "heading",
     "level": 2,
     "metadata": {},
     "source": [
      "Test Gates"
     ]
    },
    {
     "cell_type": "heading",
     "level": 3,
     "metadata": {},
     "source": [
      "Threshold Gate"
     ]
    },
    {
     "cell_type": "code",
     "collapsed": false,
     "input": [
      "gate1 = gates.ThresholdGate(1, channel=[0], region='above')\n",
      "data2 = gate1(data)\n",
      "\n",
      "gate1.plot()\n",
      "\n",
      "plot(data[0], data[1], 'o')\n",
      "plot(data2[0], data2[1], 'or')\n"
     ],
     "language": "python",
     "metadata": {},
     "outputs": [
      {
       "output_type": "pyout",
       "prompt_number": 152,
       "text": [
        "[<matplotlib.lines.Line2D at 0xeafaf10>]"
       ]
      },
      {
       "output_type": "display_data",
       "png": "[encoded data removed]"
      }
     ],
     "prompt_number": 152
    },
    {
     "cell_type": "heading",
     "level": 2,
     "metadata": {},
     "source": [
      "Interval Gate"
     ]
    },
    {
     "cell_type": "code",
     "collapsed": false,
     "input": [
      "gate = gates.IntervalGate([-0.3, 0.7], channel=[1], region='in')\n",
      "data2 = gate(data)\n",
      "\n",
      "plot(data[0], data[1], 'o')\n",
      "plot(data2[0], data2[1], 'or')\n",
      "gate.plot(flip=True, linestyle='--', linewidth=3)\n"
     ],
     "language": "python",
     "metadata": {},
     "outputs": [
      {
       "output_type": "pyout",
       "prompt_number": 153,
       "text": [
        "(<matplotlib.lines.Line2D at 0xed5ee10>,\n",
        " <matplotlib.lines.Line2D at 0xed63690>)"
       ]
      },
      {
       "output_type": "display_data",
       "png": "[encoded data removed]"
      }
     ],
     "prompt_number": 153
    },
    {
     "cell_type": "heading",
     "level": 2,
     "metadata": {},
     "source": [
      "Quad Gate"
     ]
    },
    {
     "cell_type": "code",
     "collapsed": false,
     "input": [
      "verts = (0.0, 0.1)\n",
      "    \n",
      "fig = plt.figure()\n",
      "ax = fig.add_subplot(111)\n",
      "gate = gates.QuadGate(vert=verts, channels=[0, 1], region='top left')\n",
      "data2 = gate(data)\n",
      "\n",
      "gate.plot(linewidth=1, linestyle='-')\n",
      "\n",
      "plot(data[0], data[1], 'o')\n",
      "plot(data2[0], data2[1], 'or')\n",
      "\n",
      "\n"
     ],
     "language": "python",
     "metadata": {},
     "outputs": [
      {
       "output_type": "pyout",
       "prompt_number": 154,
       "text": [
        "[<matplotlib.lines.Line2D at 0xee97310>]"
       ]
      },
      {
       "output_type": "display_data",
       "png": "[encoded data removed]"
      }
     ],
     "prompt_number": 154
    },
    {
     "cell_type": "heading",
     "level": 2,
     "metadata": {},
     "source": [
      "PolyGate"
     ]
    },
    {
     "cell_type": "code",
     "collapsed": false,
     "input": [
      "verts = [\n",
      "    (-2, -1.), # left, bottom\n",
      "    (0., 1.), # left, top\n",
      "    (1., 1.), # right, top\n",
      "    (0.4, 0.3), # right, bottom\n",
      "    (0., 0.), # final point\n",
      "    (-2, -1.), # left, bottom\n",
      "        ]\n",
      "\n",
      "fig = plt.figure()\n",
      "ax = fig.add_subplot(111)\n",
      "gate = gates.PolyGate(vert=verts, channels=[0, 1])\n",
      "data2 = gate(data)\n",
      "\n",
      "plot(data[0], data[1], 'o')\n",
      "plot(data2[0], data2[1], 'or')\n",
      "gate.plot()\n",
      "\n",
      "\n",
      "\n",
      "\n",
      "\n"
     ],
     "language": "python",
     "metadata": {},
     "outputs": [
      {
       "output_type": "pyout",
       "prompt_number": 155,
       "text": [
        "<matplotlib.patches.Polygon at 0xf1d7cd0>"
       ]
      },
      {
       "output_type": "display_data",
       "png": "[encoded data removed]"
      }
     ],
     "prompt_number": 155
    },
    {
     "cell_type": "code",
     "collapsed": false,
     "input": [
      "verts1 = (0.0, 0.1)\n",
      "verts2 = (2.0, 1.)\n",
      "    \n",
      "fig = plt.figure()\n",
      "ax = fig.add_subplot(111)\n",
      "gate1 = gates.QuadGate(vert=verts1, channels=[0, 1], region='top left')\n",
      "gate2 = gates.QuadGate(vert=verts2, channels=[0, 1], region='bottom left')\n",
      "\n",
      "data2 = gates.filter(data, [gate1, gate2], how='any')\n",
      "\n",
      "#print data2\n",
      "\n",
      "gate1.plot(color='g')\n",
      "gate2.plot(color='r')\n",
      "\n",
      "plot(data[0], data[1], 'og')\n",
      "plot(data2[0], data2[1], 'or')"
     ],
     "language": "python",
     "metadata": {},
     "outputs": [
      {
       "output_type": "pyout",
       "prompt_number": 156,
       "text": [
        "[<matplotlib.lines.Line2D at 0xf20be10>]"
       ]
      },
      {
       "output_type": "display_data",
       "png": "[encoded data removed]"
      }
     ],
     "prompt_number": 156
    }
   ],
   "metadata": {}
  }
 ]
}