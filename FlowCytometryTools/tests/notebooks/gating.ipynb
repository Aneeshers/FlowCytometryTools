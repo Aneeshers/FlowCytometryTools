{
 "metadata": {
  "name": ""
 },
 "nbformat": 3,
 "nbformat_minor": 0,
 "worksheets": [
  {
   "cells": [
    {
     "cell_type": "code",
     "collapsed": false,
     "input": [
      "%load_ext autoreload\n",
      "%autoreload 2"
     ],
     "language": "python",
     "metadata": {},
     "outputs": [],
     "prompt_number": 1
    },
    {
     "cell_type": "code",
     "collapsed": false,
     "input": [
      "from pandas import DataFrame as DF\n",
      "from matplotlib.path import Path\n",
      "from matplotlib import patches\n",
      "from FlowCytometryTools.core import gates"
     ],
     "language": "python",
     "metadata": {},
     "outputs": [],
     "prompt_number": 2
    },
    {
     "cell_type": "heading",
     "level": 2,
     "metadata": {},
     "source": [
      "Generate Data"
     ]
    },
    {
     "cell_type": "code",
     "collapsed": false,
     "input": [
      "coords = randn(50, 2)\n",
      "data = DF(coords)\n",
      "\n",
      "gate1 = gates.ThresholdGate(1, channel=[0], region='above')\n",
      "gate2 = gates.ThresholdGate(0.3, channel=[1], region='above')\n",
      "\n",
      "#~gate1\n",
      "#gate1 & gate2\n",
      "#gate1 ^ gate2\n",
      "#gate1 | gate2\n",
      "~gate1"
     ],
     "language": "python",
     "metadata": {},
     "outputs": [
      {
       "metadata": {},
       "output_type": "pyout",
       "prompt_number": 3,
       "text": [
        "<FlowCytometryTools.core.gates.CompositeGate at 0x4b7ffd0>"
       ]
      }
     ],
     "prompt_number": 3
    },
    {
     "cell_type": "code",
     "collapsed": false,
     "input": [
      "gate1.plot(ax_channels=[0, 1])\n",
      "gate2.plot(ax_channels=[0, 1])\n",
      "\n",
      "#gate_c = (gate1 ^ gate1 ^ gate1)\n",
      "gate_c = gate2\n",
      "\n",
      "#~gate1#CompositeGate(gate1, how='or', gate2=gate1)\n",
      "#gate1.plot()\n",
      "gate_c.plot(ax_channels=[0, 1])\n",
      "data2 = gate_c(data)\n",
      "#data2 = gate1(data)\n",
      "\n",
      "plot(data[0], data[1], 'o')\n",
      "plot(data2[0], data2[1], 'or')"
     ],
     "language": "python",
     "metadata": {},
     "outputs": [
      {
       "metadata": {},
       "output_type": "pyout",
       "prompt_number": 7,
       "text": [
        "[<matplotlib.lines.Line2D at 0x50ebd90>]"
       ]
      },
      {
       "metadata": {},
       "output_type": "display_data",
       "png": "[encoded data removed]",
       "text": [
        "<matplotlib.figure.Figure at 0x50c49d0>"
       ]
      }
     ],
     "prompt_number": 7
    },
    {
     "cell_type": "heading",
     "level": 2,
     "metadata": {},
     "source": [
      "Interval Gate"
     ]
    },
    {
     "cell_type": "code",
     "collapsed": false,
     "input": [
      "gate = gates.IntervalGate([-0.3, 0.7], channel=[1], region='in')\n",
      "data2 = gate(data)\n",
      "\n",
      "plot(data[0], data[1], 'o')\n",
      "plot(data2[0], data2[1], 'or')\n",
      "gate.plot(flip=True, linestyle='--', linewidth=3)\n"
     ],
     "language": "python",
     "metadata": {},
     "outputs": [
      {
       "metadata": {},
       "output_type": "pyout",
       "prompt_number": 8,
       "text": [
        "(<matplotlib.lines.Line2D at 0x5352ed0>,\n",
        " <matplotlib.lines.Line2D at 0x53556d0>)"
       ]
      },
      {
       "metadata": {},
       "output_type": "display_data",
       "png": "[encoded data removed]",
       "text": [
        "<matplotlib.figure.Figure at 0x5332850>"
       ]
      }
     ],
     "prompt_number": 8
    },
    {
     "cell_type": "heading",
     "level": 2,
     "metadata": {},
     "source": [
      "Quad Gate"
     ]
    },
    {
     "cell_type": "code",
     "collapsed": false,
     "input": [
      "verts = (0.0, 0.1)\n",
      "    \n",
      "fig = plt.figure()\n",
      "ax = fig.add_subplot(111)\n",
      "gate = gates.QuadGate(vert=verts, channels=[0, 1], region='top left')\n",
      "data2 = gate(data)\n",
      "\n",
      "gate.plot(linewidth=1, linestyle='-')\n",
      "\n",
      "plot(data[0], data[1], 'o')\n",
      "plot(data2[0], data2[1], 'or')\n",
      "\n",
      "\n"
     ],
     "language": "python",
     "metadata": {},
     "outputs": [
      {
       "metadata": {},
       "output_type": "pyout",
       "prompt_number": 9,
       "text": [
        "[<matplotlib.lines.Line2D at 0x54a3450>]"
       ]
      },
      {
       "metadata": {},
       "output_type": "display_data",
       "png": "[encoded data removed]",
       "text": [
        "<matplotlib.figure.Figure at 0x535d290>"
       ]
      }
     ],
     "prompt_number": 9
    },
    {
     "cell_type": "heading",
     "level": 2,
     "metadata": {},
     "source": [
      "PolyGate"
     ]
    },
    {
     "cell_type": "code",
     "collapsed": false,
     "input": [
      "verts = [\n",
      "    (-2, -1.), # left, bottom\n",
      "    (0., 1.), # left, top\n",
      "    (1., 1.), # right, top\n",
      "    (0.4, 0.3), # right, bottom\n",
      "    (0., 0.), # final point\n",
      "    (-2, -1.), # left, bottom\n",
      "        ]\n",
      "\n",
      "fig = plt.figure()\n",
      "ax = fig.add_subplot(111)\n",
      "gate = gates.PolyGate(vert=verts, channels=[0, 1])\n",
      "data2 = gate(data)\n",
      "\n",
      "plot(data[0], data[1], 'o')\n",
      "plot(data2[0], data2[1], 'or')\n",
      "gate.plot()\n",
      "\n",
      "\n",
      "\n",
      "\n",
      "\n"
     ],
     "language": "python",
     "metadata": {},
     "outputs": [
      {
       "metadata": {},
       "output_type": "pyout",
       "prompt_number": 10,
       "text": [
        "<matplotlib.patches.Polygon at 0x57f2110>"
       ]
      },
      {
       "metadata": {},
       "output_type": "display_data",
       "png": "[encoded data removed]",
       "text": [
        "<matplotlib.figure.Figure at 0x54a86d0>"
       ]
      }
     ],
     "prompt_number": 10
    }
   ],
   "metadata": {}
  }
 ]
}